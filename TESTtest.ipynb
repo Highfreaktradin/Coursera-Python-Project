{
 "cells": [
  {
   "cell_type": "code",
   "execution_count": 5,
   "id": "6116017f-de0d-427b-b777-deb26400a72d",
   "metadata": {},
   "outputs": [
    {
     "name": "stdout",
     "output_type": "stream",
     "text": [
      "TEST test\n"
     ]
    }
   ],
   "source": [
    "print ('TEST test')"
   ]
  },
  {
   "cell_type": "code",
   "execution_count": null,
   "id": "390aa802-d026-4c62-8fab-06682dae59e9",
   "metadata": {},
   "outputs": [],
   "source": []
  }
 ],
 "metadata": {
  "kernelspec": {
   "display_name": "Python [conda env:base] *",
   "language": "python",
   "name": "conda-base-py"
  },
  "language_info": {
   "codemirror_mode": {
    "name": "ipython",
    "version": 3
   },
   "file_extension": ".py",
   "mimetype": "text/x-python",
   "name": "python",
   "nbconvert_exporter": "python",
   "pygments_lexer": "ipython3",
   "version": "3.12.7"
  }
 },
 "nbformat": 4,
 "nbformat_minor": 5
}
